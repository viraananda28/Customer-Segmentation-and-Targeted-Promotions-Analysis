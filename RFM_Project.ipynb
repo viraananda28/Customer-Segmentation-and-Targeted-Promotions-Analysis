{
  "cells": [
    {
      "cell_type": "markdown",
      "id": "217b80b9",
      "metadata": {
        "id": "217b80b9"
      },
      "source": [
        "# Customer Segmentation"
      ]
    },
    {
      "cell_type": "markdown",
      "id": "ddd40d47",
      "metadata": {
        "id": "ddd40d47"
      },
      "source": [
        "## Background"
      ]
    },
    {
      "cell_type": "markdown",
      "id": "b16076f7",
      "metadata": {
        "id": "b16076f7"
      },
      "source": [
        "This dataset contains all purchases made for an online retail company based in the UK during an eight month period. We could use cluster analysis combined with RFM analysis to do a customer segmentation."
      ]
    },
    {
      "cell_type": "markdown",
      "id": "68294412",
      "metadata": {
        "id": "68294412"
      },
      "source": [
        "## Prepare and Explore the Data"
      ]
    },
    {
      "cell_type": "markdown",
      "id": "1ff8cf38",
      "metadata": {
        "id": "1ff8cf38"
      },
      "source": [
        "For this experiment, we will use [this](https://www.kaggle.com/vijayuv/onlineretail) data from Kaggle platform."
      ]
    },
    {
      "cell_type": "code",
      "execution_count": null,
      "id": "759630a7",
      "metadata": {
        "id": "759630a7"
      },
      "outputs": [],
      "source": [
        "# Package imports\n",
        "from sklearn.cluster import KMeans\n",
        "from sklearn.metrics import silhouette_score\n",
        "from sklearn.preprocessing import StandardScaler\n",
        "\n",
        "import matplotlib.pyplot as plt\n",
        "import numpy as np\n",
        "import pandas as pd\n",
        "import seaborn as sns\n",
        "\n",
        "pd.set_option('display.max_rows', None)"
      ]
    },
    {
      "cell_type": "code",
      "execution_count": null,
      "id": "9884fa0b",
      "metadata": {
        "id": "9884fa0b"
      },
      "outputs": [],
      "source": [
        "# Load data\n",
        "df = pd.read_excel('https://archive.ics.uci.edu/ml/machine-learning-databases/00352/Online%20Retail.xlsx')\n",
        "df.head()"
      ]
    },
    {
      "cell_type": "markdown",
      "id": "a32ad7df",
      "metadata": {
        "id": "a32ad7df"
      },
      "source": [
        "Since we want to segment our customers, we have to make sure that `CustomerID` is not null."
      ]
    },
    {
      "cell_type": "code",
      "execution_count": null,
      "id": "7f3ef1e4",
      "metadata": {
        "id": "7f3ef1e4"
      },
      "outputs": [],
      "source": [
        "# Check missing value\n",
        "df.isnull().sum()"
      ]
    },
    {
      "cell_type": "markdown",
      "id": "323e0794",
      "metadata": {
        "id": "323e0794"
      },
      "source": [
        "We could see that there is missing value in `CustomerID` columns. We could remove those missing values."
      ]
    },
    {
      "cell_type": "code",
      "execution_count": null,
      "id": "117eb979",
      "metadata": {
        "scrolled": true,
        "id": "117eb979"
      },
      "outputs": [],
      "source": [
        "# Remove missing value\n",
        "df = df[df[\"CustomerID\"].notna()]\n",
        "\n",
        "df.isnull().sum()"
      ]
    },
    {
      "cell_type": "markdown",
      "id": "e19d5134",
      "metadata": {
        "id": "e19d5134"
      },
      "source": [
        "Then we could do some descriptive statistic."
      ]
    },
    {
      "cell_type": "code",
      "execution_count": null,
      "id": "a0d69397",
      "metadata": {
        "id": "a0d69397"
      },
      "outputs": [],
      "source": [
        "# Simple descriptive statistic\n",
        "df[[\"Quantity\", \"UnitPrice\"]].describe()"
      ]
    },
    {
      "cell_type": "markdown",
      "id": "a8b671e5",
      "metadata": {
        "id": "a8b671e5"
      },
      "source": [
        "Wait, hold on. How come the quantity is a negative number and the unit price is zero? Let's check it."
      ]
    },
    {
      "cell_type": "code",
      "execution_count": null,
      "id": "f870eaed",
      "metadata": {
        "id": "f870eaed"
      },
      "outputs": [],
      "source": [
        "# Check anomaly data (Ada berapa data yg kurang dari 0 untuk quantity dan sama dengan 0 untuk price)\n",
        "quantity_zero = len(df[df[\"Quantity\"] <= 0])\n",
        "perc_quantity_zero = (len(df[df[\"Quantity\"] <= 0]) / len(df)) * 100\n",
        "unitprice_zero = len(df[df[\"UnitPrice\"] == 0])\n",
        "perc_unitprice_zero = (len(df[df[\"UnitPrice\"] == 0]) / len(df)) * 100\n",
        "\n",
        "print(\"The data consist of\", str(quantity_zero), \"rows of data with item quantity less/equal than zero.\")\n",
        "print(\"About {:.2f}% of total data\".format(perc_quantity_zero))\n",
        "print(\"\")\n",
        "print(\"The data consist of\", str(unitprice_zero), \"rows of data with unit price equal to zero.\")\n",
        "print(\"About {:.2f}% of total data\".format(perc_unitprice_zero))"
      ]
    },
    {
      "cell_type": "markdown",
      "id": "44147169",
      "metadata": {
        "id": "44147169"
      },
      "source": [
        "Then just remove those anomaly data"
      ]
    },
    {
      "cell_type": "code",
      "execution_count": null,
      "id": "a0ed77d6",
      "metadata": {
        "id": "a0ed77d6"
      },
      "outputs": [],
      "source": [
        "# Remove anomaly / outliers\n",
        "df = df[(df[\"Quantity\"] > 0) & (df[\"UnitPrice\"] > 0)]\n",
        "\n",
        "df[[\"Quantity\", \"UnitPrice\"]].describe()"
      ]
    },
    {
      "cell_type": "markdown",
      "id": "515fcd4c",
      "metadata": {
        "id": "515fcd4c"
      },
      "source": [
        "Now we're good to go. Lets do some data exploration!"
      ]
    },
    {
      "cell_type": "code",
      "execution_count": null,
      "id": "34ffeed2",
      "metadata": {
        "id": "34ffeed2"
      },
      "outputs": [],
      "source": [
        "df.info()"
      ]
    },
    {
      "cell_type": "markdown",
      "id": "66cb78fa",
      "metadata": {
        "id": "66cb78fa"
      },
      "source": [
        "The data contains 406829 rows and 8 columns, each row represents each item in a purchasement. The columns are:\n",
        "* `InvoiceNo` - Invoice number, to identify each invoice\n",
        "* `StockCode` - Stock code, to identify each item in the inventory\n",
        "* `Description` - Item's description\n",
        "* `Quantity` - Number of purchased item in each invoice\n",
        "* `InvoiceDate` - Date of purchasement\n",
        "* `UnitPrice` - Item's price per unit\n",
        "* `CustomerID` - Customer's identification number\n",
        "* `Country` - Customer's country of origin"
      ]
    },
    {
      "cell_type": "code",
      "execution_count": null,
      "id": "41f89e36",
      "metadata": {
        "id": "41f89e36"
      },
      "outputs": [],
      "source": [
        "# Check unique value\n",
        "df[['InvoiceNo', 'StockCode', 'CustomerID', 'Country']].nunique()"
      ]
    },
    {
      "cell_type": "markdown",
      "id": "3a40208c",
      "metadata": {
        "id": "3a40208c"
      },
      "source": [
        "There are 18532 purchasements, 3665 unique item purchased, from 4338 customers that came from 37 countries."
      ]
    },
    {
      "cell_type": "markdown",
      "id": "adcd5330",
      "metadata": {
        "id": "adcd5330"
      },
      "source": [
        "As we seen above, there are 37 countries of customer's origin. Since the retail company is based in the UK, we could simplified the country as UK or Non UK"
      ]
    },
    {
      "cell_type": "code",
      "execution_count": null,
      "id": "31131125",
      "metadata": {
        "scrolled": true,
        "id": "31131125"
      },
      "outputs": [],
      "source": [
        "# Simplify country origin (Pie chart untuk melihat komposisi negara)\n",
        "df['Country_isUK'] = np.where(df['Country']=='United Kingdom', 'UK', 'Non UK')\n",
        "\n",
        "customers_origin = df.groupby(['Country_isUK']).size()\n",
        "\n",
        "plt.title('Customers Origin Proportion')\n",
        "plt.pie(customers_origin, labels=customers_origin.index, autopct=lambda p: f'{p:.2f}%')\n",
        "plt.show();"
      ]
    },
    {
      "cell_type": "markdown",
      "id": "8e444fb9",
      "metadata": {
        "id": "8e444fb9"
      },
      "source": [
        "Based on the piechart, we could see that mostly our customers are from the UK."
      ]
    },
    {
      "cell_type": "markdown",
      "id": "65806425",
      "metadata": {
        "id": "65806425"
      },
      "source": [
        "Next, we could analyze the trend of purchasement. First, lets create `TotalAmount` column (`Quantity` * `UnitPrice`). Then, we could transform the `InvoiceDate` data type from string to date."
      ]
    },
    {
      "cell_type": "code",
      "execution_count": null,
      "id": "b6e2254a",
      "metadata": {
        "id": "b6e2254a"
      },
      "outputs": [],
      "source": [
        "# Create new features and cast date column\n",
        "df['TotalAmount'] = df['Quantity'] * df['UnitPrice']\n",
        "df['InvoiceDate'] = pd.to_datetime(df['InvoiceDate'])\n",
        "\n",
        "df.head()"
      ]
    },
    {
      "cell_type": "markdown",
      "id": "d56781c0",
      "metadata": {
        "id": "d56781c0"
      },
      "source": [
        "Then plot the trendline."
      ]
    },
    {
      "cell_type": "code",
      "source": [
        "import matplotlib.dates as mdates"
      ],
      "metadata": {
        "id": "4twlveXpDt4s"
      },
      "id": "4twlveXpDt4s",
      "execution_count": null,
      "outputs": []
    },
    {
      "cell_type": "code",
      "execution_count": null,
      "id": "2beb6cd5",
      "metadata": {
        "id": "2beb6cd5"
      },
      "outputs": [],
      "source": [
        "# Plot weekly trend\n",
        "weekly_purchasements = df.copy()\n",
        "weekly_purchasements = weekly_purchasements.groupby(\n",
        "    by=pd.Grouper(key=\"InvoiceDate\", freq=\"1W\"))[\"TotalAmount\"].sum()\n",
        "\n",
        "plt.figure(figsize=(20, 7))\n",
        "plt.title('Weekly Purchasement Trend')\n",
        "ax = sns.lineplot(\n",
        "    x=weekly_purchasements.index,\n",
        "    y=weekly_purchasements,\n",
        "    marker='*',\n",
        "    markersize=10,\n",
        "    markerfacecolor='red'\n",
        ")\n",
        "ax.xaxis.set_major_locator(mdates.MonthLocator(interval=1))\n",
        "ax.xaxis.set_major_formatter(mdates.DateFormatter('%b-%Y'))\n",
        "plt.grid()\n",
        "plt.show();"
      ]
    },
    {
      "cell_type": "code",
      "execution_count": null,
      "id": "9857d970",
      "metadata": {
        "scrolled": false,
        "id": "9857d970"
      },
      "outputs": [],
      "source": [
        "# Plot monthly trend\n",
        "monthly_purchasements = df.copy()\n",
        "monthly_purchasements = monthly_purchasements.groupby(by = pd.Grouper(key=\"InvoiceDate\", freq=\"1M\"))[\"TotalAmount\"].sum()\n",
        "\n",
        "plt.figure(figsize=(20, 7))\n",
        "plt.title('Monthly Purchasement Trend')\n",
        "ax = sns.lineplot(\n",
        "    x=monthly_purchasements.index,\n",
        "    y=monthly_purchasements,\n",
        "    marker='*',\n",
        "    markersize=10,\n",
        "    markerfacecolor='red'\n",
        ")\n",
        "ax.xaxis.set_major_locator(mdates.MonthLocator(interval=1))\n",
        "ax.xaxis.set_major_formatter(mdates.DateFormatter('%b-%Y'))\n",
        "plt.grid()\n",
        "plt.show();"
      ]
    },
    {
      "cell_type": "markdown",
      "id": "b3b90edb",
      "metadata": {
        "id": "b3b90edb"
      },
      "source": [
        "Based on the picture above, it can be seen that there was an increase in total purchases at the end of the year."
      ]
    },
    {
      "cell_type": "markdown",
      "id": "6fb44219",
      "metadata": {
        "id": "6fb44219"
      },
      "source": [
        "## RFM"
      ]
    },
    {
      "cell_type": "markdown",
      "id": "0fb0379b",
      "metadata": {
        "id": "0fb0379b"
      },
      "source": [
        "In this project, we would segment the customers using customer's demography and purchasement behavior. To explain the customer's demography, we could use `Country` column while to explain the customer's purchasement behavior we have to transform our data first to get those information. We could use RFM analysis to get those information."
      ]
    },
    {
      "cell_type": "markdown",
      "id": "d2b58672",
      "metadata": {
        "id": "d2b58672"
      },
      "source": [
        "### Recency"
      ]
    },
    {
      "cell_type": "markdown",
      "id": "d571d052",
      "metadata": {
        "id": "d571d052"
      },
      "source": [
        "To measure customer's recency, we could substract the latest transaction date in the data with each customer's latest transaction."
      ]
    },
    {
      "cell_type": "code",
      "execution_count": null,
      "id": "c58d515e",
      "metadata": {
        "id": "c58d515e"
      },
      "outputs": [],
      "source": [
        "# Get customer's recency\n",
        "recency =  df.groupby(['CustomerID'])['InvoiceDate'].max()\n",
        "recency = max(recency) - recency\n",
        "recency = recency.dt.days\n",
        "recency = recency.rename('Recency')\n",
        "\n",
        "recency.head()"
      ]
    },
    {
      "cell_type": "code",
      "execution_count": null,
      "id": "91918a97",
      "metadata": {
        "scrolled": false,
        "id": "91918a97"
      },
      "outputs": [],
      "source": [
        "# Recency histogram plot\n",
        "plt.figure(figsize=(12, 7))\n",
        "sns.histplot(recency)\n",
        "plt.title('Customer Recency Distribution')\n",
        "plt.grid()\n",
        "plt.show()"
      ]
    },
    {
      "cell_type": "markdown",
      "id": "f1a7865a",
      "metadata": {
        "id": "f1a7865a"
      },
      "source": [
        "### Frequency"
      ]
    },
    {
      "cell_type": "markdown",
      "id": "3fed46d7",
      "metadata": {
        "id": "3fed46d7"
      },
      "source": [
        "To measure customer's frequency, we could count customer's invoice."
      ]
    },
    {
      "cell_type": "code",
      "execution_count": null,
      "id": "8ed2b0e2",
      "metadata": {
        "id": "8ed2b0e2"
      },
      "outputs": [],
      "source": [
        "# Count frequency\n",
        "frequency = df.groupby(['CustomerID'])['InvoiceNo'].count()\n",
        "frequency = frequency.rename('Frequency')\n",
        "frequency.head()"
      ]
    },
    {
      "cell_type": "code",
      "execution_count": null,
      "id": "13a9735d",
      "metadata": {
        "scrolled": true,
        "id": "13a9735d"
      },
      "outputs": [],
      "source": [
        "# Frequency histogram plot\n",
        "plt.figure(figsize=(10, 7))\n",
        "plt.title('Customer Frequency Distribution')\n",
        "sns.histplot(frequency)\n",
        "plt.grid()\n",
        "plt.show();"
      ]
    },
    {
      "cell_type": "markdown",
      "id": "3eea2da7",
      "metadata": {
        "id": "3eea2da7"
      },
      "source": [
        "### Monetary"
      ]
    },
    {
      "cell_type": "markdown",
      "id": "03dcbd35",
      "metadata": {
        "id": "03dcbd35"
      },
      "source": [
        "To measure customer's monetary, we could sum the customer's total purchasements."
      ]
    },
    {
      "cell_type": "code",
      "execution_count": null,
      "id": "cc29b242",
      "metadata": {
        "id": "cc29b242"
      },
      "outputs": [],
      "source": [
        "# Sum the money spent\n",
        "monetary = df.groupby(['CustomerID'])['TotalAmount'].sum()\n",
        "monetary = monetary.rename('Monetary Spent')\n",
        "monetary.head()"
      ]
    },
    {
      "cell_type": "code",
      "execution_count": null,
      "id": "c45776fe",
      "metadata": {
        "scrolled": true,
        "id": "c45776fe"
      },
      "outputs": [],
      "source": [
        "# Monetary histogram plot\n",
        "plt.figure(figsize=(10, 7))\n",
        "plt.title('Customer Monetary Distribution')\n",
        "sns.histplot(monetary)\n",
        "plt.grid()\n",
        "plt.show()"
      ]
    },
    {
      "cell_type": "markdown",
      "id": "49d40acd",
      "metadata": {
        "id": "49d40acd"
      },
      "source": [
        "### Merge the Data"
      ]
    },
    {
      "cell_type": "markdown",
      "id": "722e0a4d",
      "metadata": {
        "id": "722e0a4d"
      },
      "source": [
        "The data could be separated into two dataframes. The first dataframe (log transformed data) supposed to be used when modeling and the second one (without log transformation) could be used when visualize the result."
      ]
    },
    {
      "cell_type": "code",
      "execution_count": null,
      "id": "97bdc2d1",
      "metadata": {
        "id": "97bdc2d1"
      },
      "outputs": [],
      "source": [
        "# Get customer's country of origin\n",
        "country = (\n",
        "    df.groupby(['CustomerID', 'Country_isUK'])\n",
        "    .size()\n",
        "    .reset_index()\n",
        "    .drop(0, axis=1)\n",
        ")#chaining method\n",
        "\n",
        "# Merge the data\n",
        "df_new = (\n",
        "  country\n",
        "  .merge(recency, on='CustomerID')\n",
        "  .merge(frequency, on='CustomerID')\n",
        "  .merge(monetary, on='CustomerID')\n",
        ")\n",
        "\n",
        "# Set CustomerID as index\n",
        "df_new = df_new.set_index('CustomerID')\n",
        "df_new.head()"
      ]
    },
    {
      "cell_type": "markdown",
      "id": "5560d341",
      "metadata": {
        "id": "5560d341"
      },
      "source": [
        "### One Hot Encoding"
      ]
    },
    {
      "cell_type": "markdown",
      "id": "0433b7d5",
      "metadata": {
        "id": "0433b7d5"
      },
      "source": [
        "Since our model could just accept the numeric value, we have to recode the non numeric column."
      ]
    },
    {
      "cell_type": "code",
      "execution_count": null,
      "id": "32345f0e",
      "metadata": {
        "id": "32345f0e"
      },
      "outputs": [],
      "source": [
        "# Recode the non numeric variable\n",
        "\n",
        "df_new = pd.get_dummies(\n",
        "    df_new,\n",
        "    columns=['Country_isUK'],\n",
        "    drop_first=True\n",
        ")\n",
        "\n",
        "df_new = df_new.rename(\n",
        "    columns={'Country_isUK_UK': 'Country_UK'}\n",
        ")\n",
        "\n",
        "df_new.head()"
      ]
    },
    {
      "cell_type": "markdown",
      "id": "38d77f7c",
      "metadata": {
        "id": "38d77f7c"
      },
      "source": [
        "### Scaling"
      ]
    },
    {
      "cell_type": "code",
      "execution_count": null,
      "id": "f0ca2c20",
      "metadata": {
        "id": "f0ca2c20"
      },
      "outputs": [],
      "source": [
        "sns.boxplot(data=df_new)\n",
        "plt.show()"
      ]
    },
    {
      "cell_type": "markdown",
      "id": "db4b86a5",
      "metadata": {
        "id": "db4b86a5"
      },
      "source": [
        "As we could see, there are variation of range in each column. We have to standardize it first."
      ]
    },
    {
      "cell_type": "code",
      "execution_count": null,
      "id": "878a2a91",
      "metadata": {
        "id": "878a2a91"
      },
      "outputs": [],
      "source": [
        "# Scale the data\n",
        "\n",
        "scaler = StandardScaler()\n",
        "df_scaled = scaler.fit_transform(df_new)\n",
        "\n",
        "df_scaled = pd.DataFrame(\n",
        "    df_scaled,\n",
        "    columns=df_new.columns,\n",
        "    index=df_new.index\n",
        ")\n",
        "\n",
        "df_scaled.head()"
      ]
    },
    {
      "cell_type": "code",
      "execution_count": null,
      "id": "92f9dae6",
      "metadata": {
        "id": "92f9dae6"
      },
      "outputs": [],
      "source": [
        "# Plot scaled data\n",
        "sns.boxplot(data = df_scaled)\n",
        "plt.grid()\n",
        "plt.show()"
      ]
    },
    {
      "cell_type": "markdown",
      "id": "ce75bbde",
      "metadata": {
        "id": "ce75bbde"
      },
      "source": [
        "## Modeling"
      ]
    },
    {
      "cell_type": "code",
      "source": [
        "import warnings\n",
        "warnings.simplefilter(action='ignore', category=FutureWarning)"
      ],
      "metadata": {
        "id": "nc-VvJLiIgX4"
      },
      "id": "nc-VvJLiIgX4",
      "execution_count": null,
      "outputs": []
    },
    {
      "cell_type": "code",
      "execution_count": null,
      "id": "24136700",
      "metadata": {
        "id": "24136700"
      },
      "outputs": [],
      "source": [
        "# Modeling\n",
        "possible_k = [2, 3, 4, 5, 6, 7, 8, 9, 10]\n",
        "silhouette = []\n",
        "\n",
        "for k in possible_k:\n",
        "    kmeans = KMeans(n_clusters=k, random_state=42).fit(df_scaled)\n",
        "    silhouette.append(silhouette_score(X=df_scaled, labels=kmeans.labels_))"
      ]
    },
    {
      "cell_type": "code",
      "execution_count": null,
      "id": "fba5781c",
      "metadata": {
        "scrolled": true,
        "id": "fba5781c"
      },
      "outputs": [],
      "source": [
        "# Plot the score\n",
        "plt.figure(figsize=(12, 7))\n",
        "sns.lineplot(\n",
        "    x=possible_k,\n",
        "    y=silhouette,\n",
        "    marker='*',\n",
        "    markersize=10,\n",
        "    markerfacecolor='red'\n",
        ")\n",
        "plt.xlabel('Values of K')\n",
        "plt.ylabel('Silhouette Score')\n",
        "plt.title('Silhouette Score Method')\n",
        "plt.grid()\n",
        "plt.show();"
      ]
    },
    {
      "cell_type": "markdown",
      "id": "48e5eb4d",
      "metadata": {
        "id": "48e5eb4d"
      },
      "source": [
        "Using silhouette score, the best K is either 2 or 6"
      ]
    },
    {
      "cell_type": "code",
      "execution_count": null,
      "id": "dd400d71",
      "metadata": {
        "scrolled": false,
        "id": "dd400d71"
      },
      "outputs": [],
      "source": [
        "#Pairplot\n",
        "kmeans = KMeans(n_clusters=2,random_state=42).fit(df_scaled)\n",
        "\n",
        "df_result_kmeans = df_new.copy()\n",
        "df_result_kmeans['cluster'] = kmeans.labels_\n",
        "\n",
        "sns.pairplot(\n",
        "    data=df_result_kmeans,\n",
        "    hue='cluster',\n",
        "    diag_kind='None',\n",
        "    palette='tab10'\n",
        ")\n",
        "\n",
        "plt.show();"
      ]
    },
    {
      "cell_type": "code",
      "source": [
        "# Quantile function\n",
        "def q25(x):\n",
        "    return x.quantile(0.25)\n",
        "\n",
        "def q75(x):\n",
        "    return x.quantile(0.75)\n",
        "\n",
        "# Simple descriptive statistic\n",
        "(\n",
        "    df_result_kmeans\n",
        "    .drop(\"Country_UK\", axis = 1)\n",
        "    .groupby('cluster')\n",
        "    .aggregate(['mean', 'std', 'min', q25, 'median', q75, 'max'])\n",
        "    .transpose()\n",
        ")"
      ],
      "metadata": {
        "id": "PsIUz_f15xIQ"
      },
      "id": "PsIUz_f15xIQ",
      "execution_count": null,
      "outputs": []
    },
    {
      "cell_type": "code",
      "execution_count": null,
      "id": "ba695006",
      "metadata": {
        "id": "ba695006"
      },
      "outputs": [],
      "source": [
        "df_result_kmeans.groupby([\"cluster\", \"Country_UK\"])[\"Recency\"].count()"
      ]
    },
    {
      "cell_type": "code",
      "source": [
        "df_result_kmeans.groupby([\"cluster\", \"Country_UK\"])[\"Frequency\"].count()"
      ],
      "metadata": {
        "id": "MoMR0F7xrHRC"
      },
      "id": "MoMR0F7xrHRC",
      "execution_count": null,
      "outputs": []
    },
    {
      "cell_type": "code",
      "source": [
        "df_result_kmeans.groupby([\"cluster\", \"Country_UK\"])[\"Monetary Spent\"].count()"
      ],
      "metadata": {
        "id": "0mE2N9cfrLzb"
      },
      "id": "0mE2N9cfrLzb",
      "execution_count": null,
      "outputs": []
    },
    {
      "cell_type": "markdown",
      "id": "881f4d4f",
      "metadata": {
        "id": "881f4d4f"
      },
      "source": [
        "That's it! The customer's behavior really segmented by their country of origin.\n",
        "\n",
        "What if we separate the customer by its country of origin before doing cluster analysis?"
      ]
    },
    {
      "cell_type": "markdown",
      "id": "e6b8a642",
      "metadata": {
        "id": "e6b8a642"
      },
      "source": [
        "# Question"
      ]
    },
    {
      "cell_type": "markdown",
      "id": "c0d867d4",
      "metadata": {
        "id": "c0d867d4"
      },
      "source": [
        "1. (30 point) Lakukan EDA lebih mendalam dari data yang tersedia. Misalnya: a) Siapa top 5 customer dengan pembelian terbanyak? b) Kapan waktu pembelian dengan jumlah customer terbanyak? (Misal hari apa, jam berapa, bulan apa, minggu ke berapa, dst). EDA juga bisa dilakukan menggunakan business question lain.\n",
        "2. (30 point) Apa karakteristik/ciri utama dari masing-masing cluster? Apa promo yang kira-kira cocok untuk diberikan ke masing-masing cluster?\n",
        "3. (40 point) Bagaimana jika segmentation difokuskan untuk customer di luar UK? Apakah terdapat insight yang menarik? Apa karakteristik utama dari cluster-cluster non UK?"
      ]
    },
    {
      "cell_type": "markdown",
      "source": [
        "#Jawaban Question 1"
      ],
      "metadata": {
        "id": "8fQpAtzIqH9X"
      },
      "id": "8fQpAtzIqH9X"
    },
    {
      "cell_type": "code",
      "source": [
        "#b) nunique.idxmax() --> Pada saat melakukan group by"
      ],
      "metadata": {
        "id": "_VVVJl12pcJd"
      },
      "id": "_VVVJl12pcJd",
      "execution_count": null,
      "outputs": []
    },
    {
      "cell_type": "markdown",
      "source": [
        "#Jawaban Question 2\n"
      ],
      "metadata": {
        "id": "eWz07BF_y-5t"
      },
      "id": "eWz07BF_y-5t"
    },
    {
      "cell_type": "code",
      "source": [],
      "metadata": {
        "id": "HczwByqapceQ"
      },
      "id": "HczwByqapceQ",
      "execution_count": null,
      "outputs": []
    },
    {
      "cell_type": "code",
      "source": [],
      "metadata": {
        "id": "ASBIRP-XpdoO"
      },
      "id": "ASBIRP-XpdoO",
      "execution_count": null,
      "outputs": []
    },
    {
      "cell_type": "markdown",
      "source": [
        "#Jawaban Question 3"
      ],
      "metadata": {
        "id": "o7CAfzQB3b7D"
      },
      "id": "o7CAfzQB3b7D"
    },
    {
      "cell_type": "code",
      "source": [],
      "metadata": {
        "id": "_xdsPNpUpcxK"
      },
      "id": "_xdsPNpUpcxK",
      "execution_count": null,
      "outputs": []
    },
    {
      "cell_type": "code",
      "source": [],
      "metadata": {
        "id": "_jWNCDDupd8c"
      },
      "id": "_jWNCDDupd8c",
      "execution_count": null,
      "outputs": []
    },
    {
      "cell_type": "markdown",
      "source": [
        "Berdasarkan hasil output dari analisis karakteristik utama dari masing-masing cluster non UK, berikut adalah beberapa kesimpulan yang dapat diambil:\n",
        "\n",
        "*   List item\n",
        "*   List item\n",
        "\n",
        "*   List item\n",
        "*   List item\n"
      ],
      "metadata": {
        "id": "LDIrF_rO5uQZ"
      },
      "id": "LDIrF_rO5uQZ"
    }
  ],
  "metadata": {
    "kernelspec": {
      "display_name": "Python 3 (ipykernel)",
      "language": "python",
      "name": "python3"
    },
    "language_info": {
      "codemirror_mode": {
        "name": "ipython",
        "version": 3
      },
      "file_extension": ".py",
      "mimetype": "text/x-python",
      "name": "python",
      "nbconvert_exporter": "python",
      "pygments_lexer": "ipython3",
      "version": "3.9.13"
    },
    "colab": {
      "provenance": [],
      "toc_visible": true
    }
  },
  "nbformat": 4,
  "nbformat_minor": 5
}